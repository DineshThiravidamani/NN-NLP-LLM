{
  "nbformat": 4,
  "nbformat_minor": 0,
  "metadata": {
    "colab": {
      "provenance": []
    },
    "kernelspec": {
      "name": "python3",
      "display_name": "Python 3"
    },
    "language_info": {
      "name": "python"
    }
  },
  "cells": [
    {
      "cell_type": "code",
      "execution_count": null,
      "metadata": {
        "id": "JCHJpdyn4Slt"
      },
      "outputs": [],
      "source": [
        "import spacy"
      ]
    },
    {
      "cell_type": "code",
      "source": [
        "nlp = spacy.load('en_core_web_sm')"
      ],
      "metadata": {
        "id": "BnYXNMxb4Ywy"
      },
      "execution_count": null,
      "outputs": []
    },
    {
      "cell_type": "code",
      "source": [
        "doc = nlp('Colab lets you write and execute Python code in your browser, with access to GPUs and TPUs, and easy sharing of notebooks. Learn how to use Colab for data analysis, machine learning')"
      ],
      "metadata": {
        "id": "tZMGBg1d4hPN"
      },
      "execution_count": null,
      "outputs": []
    },
    {
      "cell_type": "code",
      "source": [
        "for words in doc:\n",
        "  print(words,'-',spacy.explain(words.pos_)) # part of speech"
      ],
      "metadata": {
        "colab": {
          "base_uri": "https://localhost:8080/"
        },
        "id": "qfKysPWQ5IjG",
        "outputId": "b5eaeaf3-77bd-45a4-c9c9-4455ddcda05e"
      },
      "execution_count": null,
      "outputs": [
        {
          "output_type": "stream",
          "name": "stdout",
          "text": [
            "Colab - proper noun\n",
            "lets - verb\n",
            "you - pronoun\n",
            "write - verb\n",
            "and - coordinating conjunction\n",
            "execute - verb\n",
            "Python - proper noun\n",
            "code - noun\n",
            "in - adposition\n",
            "your - pronoun\n",
            "browser - noun\n",
            ", - punctuation\n",
            "with - adposition\n",
            "access - noun\n",
            "to - adposition\n",
            "GPUs - noun\n",
            "and - coordinating conjunction\n",
            "TPUs - noun\n",
            ", - punctuation\n",
            "and - coordinating conjunction\n",
            "easy - adjective\n",
            "sharing - noun\n",
            "of - adposition\n",
            "notebooks - noun\n",
            ". - punctuation\n",
            "Learn - verb\n",
            "how - subordinating conjunction\n",
            "to - particle\n",
            "use - verb\n",
            "Colab - proper noun\n",
            "for - adposition\n",
            "data - noun\n",
            "analysis - noun\n",
            ", - punctuation\n",
            "machine - noun\n",
            "learning - noun\n"
          ]
        }
      ]
    },
    {
      "cell_type": "code",
      "source": [
        "nlp.pipe_names"
      ],
      "metadata": {
        "colab": {
          "base_uri": "https://localhost:8080/"
        },
        "id": "Bfg6T-SyAYXU",
        "outputId": "475c20c7-fe4a-4b02-d416-a51e702cd5f8"
      },
      "execution_count": null,
      "outputs": [
        {
          "output_type": "execute_result",
          "data": {
            "text/plain": [
              "['tok2vec', 'tagger', 'parser', 'attribute_ruler', 'lemmatizer', 'ner']"
            ]
          },
          "metadata": {},
          "execution_count": 5
        }
      ]
    },
    {
      "cell_type": "code",
      "source": [
        "for ent in doc.ents:\n",
        "  print(ent.text,'-',spacy.explain(ent.label_))"
      ],
      "metadata": {
        "colab": {
          "base_uri": "https://localhost:8080/"
        },
        "id": "PTQCLfVyAncK",
        "outputId": "4b71ef45-2f8b-4916-f4c7-fae5606d93da"
      },
      "execution_count": null,
      "outputs": [
        {
          "output_type": "stream",
          "name": "stdout",
          "text": [
            "Colab - Companies, agencies, institutions, etc.\n"
          ]
        }
      ]
    },
    {
      "cell_type": "code",
      "source": [
        "nlp.pipe_labels['ner']"
      ],
      "metadata": {
        "colab": {
          "base_uri": "https://localhost:8080/"
        },
        "id": "Mp62lUZxBrgh",
        "outputId": "f1687fd9-d3e1-442d-8632-7633ecff5673"
      },
      "execution_count": null,
      "outputs": [
        {
          "output_type": "execute_result",
          "data": {
            "text/plain": [
              "['CARDINAL',\n",
              " 'DATE',\n",
              " 'EVENT',\n",
              " 'FAC',\n",
              " 'GPE',\n",
              " 'LANGUAGE',\n",
              " 'LAW',\n",
              " 'LOC',\n",
              " 'MONEY',\n",
              " 'NORP',\n",
              " 'ORDINAL',\n",
              " 'ORG',\n",
              " 'PERCENT',\n",
              " 'PERSON',\n",
              " 'PRODUCT',\n",
              " 'QUANTITY',\n",
              " 'TIME',\n",
              " 'WORK_OF_ART']"
            ]
          },
          "metadata": {},
          "execution_count": 7
        }
      ]
    },
    {
      "cell_type": "code",
      "source": [
        "from spacy.tokens import Span\n",
        "\n",
        "s1=Span(doc,6,7,label='ORG')\n",
        "s2=Span(doc,8,9,label='ORG')\n",
        "\n",
        "doc.set_ents([s1,s2],default='unmodified')\n",
        "\n",
        "for ent in doc.ents:\n",
        "  print(ent.text,'-',ent.label_)"
      ],
      "metadata": {
        "colab": {
          "base_uri": "https://localhost:8080/"
        },
        "id": "heK48n5LEPqn",
        "outputId": "38eb772f-2ff5-46c8-ba4c-b60a857e27bd"
      },
      "execution_count": null,
      "outputs": [
        {
          "output_type": "stream",
          "name": "stdout",
          "text": [
            "Python - ORG\n",
            "in - ORG\n",
            "Colab - ORG\n"
          ]
        }
      ]
    }
  ]
}